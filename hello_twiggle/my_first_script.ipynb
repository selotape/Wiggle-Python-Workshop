{
 "cells": [
  {
   "cell_type": "markdown",
   "metadata": {
    "slideshow": {
     "slide_type": "slide"
    }
   },
   "source": [
    "# Twiggle Python Workshop 🐍\n",
    "\n",
    "A ~3 hour hackers guide to python."
   ]
  },
  {
   "cell_type": "markdown",
   "metadata": {
    "collapsed": true,
    "slideshow": {
     "slide_type": "slide"
    }
   },
   "source": [
    "## Topics\n",
    "1. What's python?\n",
    "\n",
    "2. Installation\n",
    "\n",
    "3. The python shell\n",
    "\n",
    "4. Code files \n",
    "\n",
    "5. Syntax\n",
    "\n",
    "6. Common Data structures\n",
    "\n",
    "7. Iter tools\n",
    "\n",
    "8. **Exercise 1!**\n",
    "\n",
    "9. Objects\n",
    "\n",
    "10. Modules & Packages\n",
    "\n",
    "11. **Exercise 2, Electric boogaloo!**"
   ]
  },
  {
   "cell_type": "markdown",
   "metadata": {},
   "source": [
    "======================================================================================"
   ]
  },
  {
   "cell_type": "markdown",
   "metadata": {
    "slideshow": {
     "slide_type": "slide"
    }
   },
   "source": [
    "## What's python?\n",
    "\n",
    "* \"Multi paradigm programming language\" 😄\n",
    "\n",
    "\n",
    "* [The Incredible Growth of Python](https://stackoverflow.blog/2017/09/06/incredible-growth-python/)\n",
    "\n",
    "![growth-chart](https://zgab33vy595fw5zq-zippykid.netdna-ssl.com/wp-content/uploads/2017/09/growth_major_languages-1-1400x1200.png)\n",
    "\n",
    "* No math degree required!!\n",
    "\n",
    "\n",
    "* First appeared 20 February 1991, 21 years ago\n",
    "\n",
    "\n",
    "* Implemented in C (and others)\n",
    "\n",
    "\n",
    "* \"Interpreted\" (and compiled)\n",
    "\n",
    "\n",
    "* Totally open source, maintained by the [PSF](https://www.python.org/psf/led)\n",
    "  * headed by BDFL (Benevolent Dictator For Life) Guido van Rosum\n",
    "\n",
    "![title](img/guido.jpeg)\n"
   ]
  },
  {
   "cell_type": "markdown",
   "metadata": {},
   "source": [
    "## Installation\n",
    "\n",
    "* Windows - https://www.python.org/ftp/python/3.6.4/python-3.6.4-amd64.exe\n",
    "\n",
    "\n",
    "* Ubuntu - \n",
    "  * `sudo add-apt-repository ppa:jonathonf/python-3.6; sudo apt-get update; sudo apt-get install python3.6`\n"
   ]
  },
  {
   "cell_type": "markdown",
   "metadata": {},
   "source": [
    "==========================================================================================="
   ]
  },
  {
   "cell_type": "markdown",
   "metadata": {},
   "source": [
    "## The Python Shell\n",
    "\n",
    "* A Read–Eval–Print Loop (REPL)\n",
    "\n",
    "\n",
    "* Fastest playground\n",
    "\n",
    "\n",
    "* Built into Pycharm - ![title](img/python_console_in_pycharm.png)"
   ]
  },
  {
   "cell_type": "markdown",
   "metadata": {},
   "source": [
    "### ⚙ Mini exercise\n",
    "\n",
    "1. run `python` in terminal\n",
    "\n",
    "2. _what python version are you running?_\n",
    "\n",
    "3. type `print('hello python!')`\n"
   ]
  },
  {
   "cell_type": "markdown",
   "metadata": {},
   "source": [
    "## Code files"
   ]
  },
  {
   "cell_type": "markdown",
   "metadata": {},
   "source": [
    "Code lives in `file_name.py` files. That is all.\n"
   ]
  },
  {
   "cell_type": "code",
   "execution_count": null,
   "metadata": {
    "collapsed": true
   },
   "outputs": [],
   "source": [
    "! echo \"print('hello python!')\" > my_first_python_script.py"
   ]
  },
  {
   "cell_type": "code",
   "execution_count": null,
   "metadata": {},
   "outputs": [],
   "source": [
    "! python test_python_script.py"
   ]
  },
  {
   "cell_type": "code",
   "execution_count": null,
   "metadata": {
    "collapsed": true
   },
   "outputs": [],
   "source": [
    "! rm my_first_python_script.py"
   ]
  },
  {
   "cell_type": "markdown",
   "metadata": {},
   "source": [
    "Packages/Modules live in directories with `__init__.py` files.\n",
    "* We'll revisit!"
   ]
  },
  {
   "cell_type": "markdown",
   "metadata": {},
   "source": [
    "### ⚙ Mini exercise\n",
    "\n",
    "1. Create a `hello_python.py` script\n",
    "\n",
    "2. Run it from terminal\n",
    "\n",
    "3. Run it from Pycharm\n",
    "\n",
    "4. Debug it!\n"
   ]
  },
  {
   "cell_type": "markdown",
   "metadata": {},
   "source": [
    "==========================================================================================="
   ]
  },
  {
   "cell_type": "markdown",
   "metadata": {},
   "source": [
    "# The Syntax"
   ]
  },
  {
   "cell_type": "code",
   "execution_count": null,
   "metadata": {
    "collapsed": true
   },
   "outputs": [],
   "source": [
    "# This is how you write comments"
   ]
  },
  {
   "cell_type": "markdown",
   "metadata": {},
   "source": [
    "### Strings"
   ]
  },
  {
   "cell_type": "code",
   "execution_count": null,
   "metadata": {},
   "outputs": [],
   "source": [
    "\"I'm a string\""
   ]
  },
  {
   "cell_type": "code",
   "execution_count": null,
   "metadata": {},
   "outputs": [],
   "source": [
    "'Im also a string'"
   ]
  },
  {
   "cell_type": "code",
   "execution_count": null,
   "metadata": {},
   "outputs": [],
   "source": [
    "'Im a concatenated ' + 'string'"
   ]
  },
  {
   "cell_type": "code",
   "execution_count": null,
   "metadata": {},
   "outputs": [],
   "source": [
    "'Im a %s %s' % ('formatted', 'string')"
   ]
  },
  {
   "cell_type": "markdown",
   "metadata": {},
   "source": [
    "###  Numbers"
   ]
  },
  {
   "cell_type": "code",
   "execution_count": null,
   "metadata": {
    "collapsed": true
   },
   "outputs": [],
   "source": [
    "number_nine = 9"
   ]
  },
  {
   "cell_type": "code",
   "execution_count": null,
   "metadata": {
    "collapsed": true
   },
   "outputs": [],
   "source": [
    "eight_and_a_half = 8.5"
   ]
  },
  {
   "cell_type": "code",
   "execution_count": null,
   "metadata": {
    "collapsed": true
   },
   "outputs": [],
   "source": [
    "one_half = number_nine - eight_and_a_half"
   ]
  },
  {
   "cell_type": "code",
   "execution_count": null,
   "metadata": {
    "collapsed": true
   },
   "outputs": [],
   "source": [
    "two = 6/3"
   ]
  },
  {
   "cell_type": "code",
   "execution_count": null,
   "metadata": {},
   "outputs": [],
   "source": [
    "print(number_nine, eight_and_a_half, one_half, two)"
   ]
  },
  {
   "cell_type": "markdown",
   "metadata": {},
   "source": [
    "### Collections"
   ]
  },
  {
   "cell_type": "code",
   "execution_count": null,
   "metadata": {
    "collapsed": true
   },
   "outputs": [],
   "source": [
    "im_a_list = [1, 2, 3]\n",
    "\n",
    "im_a_dict = {'one': 1, 'two':2, 'three':3}"
   ]
  },
  {
   "cell_type": "markdown",
   "metadata": {},
   "source": [
    "### Lists"
   ]
  },
  {
   "cell_type": "code",
   "execution_count": null,
   "metadata": {
    "collapsed": true
   },
   "outputs": [],
   "source": [
    "words_list = ['Lists', 'are', 'the', 'single', 'most', 'useful', 'data', 'structure!']"
   ]
  },
  {
   "cell_type": "code",
   "execution_count": null,
   "metadata": {},
   "outputs": [],
   "source": [
    "for word in words_list:\n",
    "    print(word, end=' ')"
   ]
  },
  {
   "cell_type": "code",
   "execution_count": null,
   "metadata": {
    "collapsed": true
   },
   "outputs": [],
   "source": [
    "# Lists can be accessed via SLICES\n",
    "words_list[0] = 'Arrays'"
   ]
  },
  {
   "cell_type": "code",
   "execution_count": null,
   "metadata": {},
   "outputs": [],
   "source": [
    "for word in words_list[0:2]:\n",
    "    print(word, end=' ')\n",
    "\n",
    "for word in words_list[2:]:\n",
    "    print(word, end=' ')"
   ]
  },
  {
   "cell_type": "code",
   "execution_count": null,
   "metadata": {},
   "outputs": [],
   "source": [
    "print(\"Last word in words_list is: '%s'\" % words_list[-1])"
   ]
  },
  {
   "cell_type": "markdown",
   "metadata": {},
   "source": [
    "### Dictionaries"
   ]
  },
  {
   "cell_type": "code",
   "execution_count": null,
   "metadata": {
    "collapsed": true
   },
   "outputs": [],
   "source": [
    "# Dictionaries map keys to values:\n",
    "\n",
    "python_wizardry_level = {\n",
    "    'Oren': 8,\n",
    "    'Avish': 9,\n",
    "    'Uri': 10,\n",
    "}"
   ]
  },
  {
   "cell_type": "code",
   "execution_count": null,
   "metadata": {},
   "outputs": [],
   "source": [
    "# iterate over keys directly\n",
    "\n",
    "for wizard in python_wizardry_level:\n",
    "    print('Wizard: %s' % wizard)"
   ]
  },
  {
   "cell_type": "code",
   "execution_count": null,
   "metadata": {},
   "outputs": [],
   "source": [
    "# iterate over keys+values using dict.items()\n",
    "\n",
    "for wizard, level in python_wizardry_level.items():\n",
    "    print('Wizard: %s. Level: %d' % (wizard, level))"
   ]
  },
  {
   "cell_type": "code",
   "execution_count": null,
   "metadata": {},
   "outputs": [],
   "source": [
    "uris_wizardry_level = python_wizardry_level['Uri']\n",
    "\n",
    "print('Uris wizardry level is %d' % uris_wizardry_level)"
   ]
  },
  {
   "cell_type": "markdown",
   "metadata": {},
   "source": [
    "## Control Flow"
   ]
  },
  {
   "cell_type": "code",
   "execution_count": null,
   "metadata": {},
   "outputs": [],
   "source": [
    "if 1 > 2:\n",
    "    print(\"All Hell's broke loose!!\")\n",
    "else:\n",
    "    print(\"Nothing to see here. Move along.\")"
   ]
  },
  {
   "cell_type": "code",
   "execution_count": null,
   "metadata": {},
   "outputs": [],
   "source": [
    "powerpuff_girls = ['Blossom', 'Bubbles', 'Buttercup']\n",
    "\n",
    "if 'Mojojojo' in powerpuff_girls:\n",
    "    print(\"Intruder!!\")\n",
    "if 'Blossom' not in powerpuff_girls:\n",
    "    print(\"MIA!!\")\n",
    "elif len(powerpuff_girls) == 3 and 'Buttercup' in powerpuff_girls:\n",
    "    print(\"Fear not, we are safe!\")"
   ]
  },
  {
   "cell_type": "code",
   "execution_count": null,
   "metadata": {},
   "outputs": [],
   "source": [
    "from time import time\n",
    "\n",
    "start_time = current_time = time()\n",
    "count=0\n",
    "\n",
    "while current_time < start_time + 1:\n",
    "    count += 1\n",
    "    current_time = time()\n",
    "    \n",
    "print(\"counted up to %d in %d second\" % (count, current_time-start_time))"
   ]
  },
  {
   "cell_type": "markdown",
   "metadata": {},
   "source": [
    "### Functions"
   ]
  },
  {
   "cell_type": "code",
   "execution_count": null,
   "metadata": {},
   "outputs": [],
   "source": [
    "# defining functions with default arguments\n",
    "\n",
    "def print_kitchen_greeting(name, position='employee'):\n",
    "    print('Hi %s! Are you a new %s, or just interviewing?' % (name, position))\n",
    "\n",
    "print_kitchen_greeting('Thor')\n",
    "print_kitchen_greeting('Loki', position='KE')"
   ]
  },
  {
   "cell_type": "code",
   "execution_count": null,
   "metadata": {},
   "outputs": [],
   "source": [
    "# Functions are first class citizens in python - \n",
    "\n",
    "print(print_kitchen_greeting)"
   ]
  },
  {
   "cell_type": "code",
   "execution_count": null,
   "metadata": {
    "collapsed": true
   },
   "outputs": [],
   "source": [
    "def lower_print(string_to_print: str):\n",
    "    print(string_to_print.lower())\n",
    "\n",
    "def triple_print(string_to_print):\n",
    "    print(string_to_print * 3)\n",
    "\n",
    "        \n",
    "def customizable_greeting(name, print_func=print):\n",
    "    print_func(' Hi %s!' % name)"
   ]
  },
  {
   "cell_type": "code",
   "execution_count": null,
   "metadata": {},
   "outputs": [],
   "source": [
    "customizable_greeting('Spiderman')\n",
    "customizable_greeting('Batman', print_func=triple_print)\n",
    "customizable_greeting('SUPERMAN', print_func=lower_print)"
   ]
  },
  {
   "cell_type": "code",
   "execution_count": null,
   "metadata": {
    "collapsed": true
   },
   "outputs": [],
   "source": [
    "from random import random\n",
    "\n",
    "def two_random_numbers():\n",
    "    \"\"\"\n",
    "    returns multiple values (in a tuple)\n",
    "    \"\"\"\n",
    "    return random(), random()"
   ]
  },
  {
   "cell_type": "code",
   "execution_count": null,
   "metadata": {},
   "outputs": [],
   "source": [
    "# automatic tuple \"unpacking\"\n",
    "x, y = two_random_numbers() \n",
    "print(x, y)"
   ]
  },
  {
   "cell_type": "markdown",
   "metadata": {},
   "source": [
    "## Iteration"
   ]
  },
  {
   "cell_type": "markdown",
   "metadata": {},
   "source": [
    "### range"
   ]
  },
  {
   "cell_type": "code",
   "execution_count": null,
   "metadata": {},
   "outputs": [],
   "source": [
    "for i in range(10):\n",
    "    print('step ' + str(i))"
   ]
  },
  {
   "cell_type": "code",
   "execution_count": null,
   "metadata": {},
   "outputs": [],
   "source": [
    "for i in range(0, 10, 2):\n",
    "    print('step ' + str(i))"
   ]
  },
  {
   "cell_type": "markdown",
   "metadata": {},
   "source": [
    "### enumerate"
   ]
  },
  {
   "cell_type": "code",
   "execution_count": null,
   "metadata": {},
   "outputs": [],
   "source": [
    "for word_position, word in enumerate(words_list):\n",
    "    print(\"%d: '%s'\" % (word_position, word))"
   ]
  },
  {
   "cell_type": "markdown",
   "metadata": {},
   "source": [
    "### comprehensions"
   ]
  },
  {
   "cell_type": "code",
   "execution_count": null,
   "metadata": {},
   "outputs": [],
   "source": [
    "# map\n",
    "[word.lower() for word in words_list]"
   ]
  },
  {
   "cell_type": "code",
   "execution_count": null,
   "metadata": {},
   "outputs": [],
   "source": [
    "# filter\n",
    "[word for word in words_list if word.isalpha()]"
   ]
  },
  {
   "cell_type": "code",
   "execution_count": null,
   "metadata": {},
   "outputs": [],
   "source": [
    "# combine!\n",
    "[word[:3] for word in words_list if word.isalpha()]"
   ]
  },
  {
   "cell_type": "markdown",
   "metadata": {},
   "source": [
    "## ⚙ Finally, Exercise 1!"
   ]
  },
  {
   "cell_type": "markdown",
   "metadata": {},
   "source": [
    "Fill in the following grep.py script:"
   ]
  },
  {
   "cell_type": "code",
   "execution_count": null,
   "metadata": {},
   "outputs": [],
   "source": [
    "# This is a template grep.py file\n",
    "# It should run like so - `python grep.py /path/to/file pattern`\n",
    "\n",
    "import sys\n",
    "\n",
    "if __name__ == '__main__':\n",
    "    print(sys.argv)\n",
    "    \n",
    "    # TODO:\n",
    "    \n",
    "    # 1- read file (hint - you need to google how to do this)\n",
    "    # 2- iterate over lines (ditto)\n",
    "    # 3- if line contains the pattern, print it\n",
    "    \n",
    "    # 4- Advanced: pattern is now a regex!\n",
    "    "
   ]
  },
  {
   "cell_type": "markdown",
   "metadata": {},
   "source": [
    "## Objects"
   ]
  },
  {
   "cell_type": "code",
   "execution_count": null,
   "metadata": {
    "collapsed": true
   },
   "outputs": [],
   "source": [
    "class House:\n",
    "    def __init__(self, address, storage_size):\n",
    "        self._storage_size = storage_size  # type: int\n",
    "        self._storage = set()  # type: set\n",
    "        self._address = address  # type: int\n",
    "\n",
    "    def free_space(self):\n",
    "        return self._storage_size - len(self._storage)\n",
    "    \n",
    "    def store(self, junk):\n",
    "        if self.free_space() <= 0:\n",
    "            raise OverflowError(\"You got no more room for your junk!!\")\n",
    "        self._storage.add(junk)\n",
    "        print('Stored the %s' % junk)\n",
    "    \n",
    "    def throw_away(self, junk):\n",
    "        if junk in self._storage:\n",
    "            self._storage.remove(junk)\n",
    "            print('Threw away the %s' % junk)\n",
    "            \n",
    "    def __str__(self):\n",
    "        return 'A House at \\'%s\\'' % self._address"
   ]
  },
  {
   "cell_type": "code",
   "execution_count": null,
   "metadata": {},
   "outputs": [],
   "source": [
    "rons_house = House('Hailanot 25, Maas', 3)\n",
    "print(str(rons_house))"
   ]
  },
  {
   "cell_type": "code",
   "execution_count": null,
   "metadata": {},
   "outputs": [],
   "source": [
    "print(rons_house.free_space())\n",
    "rons_house.store('Bike')\n",
    "rons_house.store('Fridge')\n",
    "rons_house.store('TV')"
   ]
  },
  {
   "cell_type": "code",
   "execution_count": null,
   "metadata": {},
   "outputs": [],
   "source": [
    "rons_house.throw_away('Fridge')"
   ]
  },
  {
   "cell_type": "code",
   "execution_count": null,
   "metadata": {
    "collapsed": true
   },
   "outputs": [],
   "source": [
    "# !!! Black Magic Warning !!!\n",
    "# methods are just more objects and python is super customizable"
   ]
  },
  {
   "cell_type": "code",
   "execution_count": null,
   "metadata": {
    "collapsed": true
   },
   "outputs": [],
   "source": [
    "class NotImportantEnoughError(Exception):\n",
    "    pass\n",
    "\n",
    "def strict_store(self, junk):\n",
    "    if 'important' not in junk.lower():\n",
    "        raise NotImportantEnoughError()\n",
    "        \n",
    "    if self.free_space() <= 0:\n",
    "        raise OverflowError(\"You got no more room for your junk!!\")\n",
    "    self._storage.add(junk)\n",
    "    print('Stored %s' % junk)\n",
    "\n",
    "House.store = strict_store    \n",
    "    "
   ]
  },
  {
   "cell_type": "code",
   "execution_count": null,
   "metadata": {
    "collapsed": true
   },
   "outputs": [],
   "source": [
    "fistuks_house = House('wallnut 25, hazeltown', 4)"
   ]
  },
  {
   "cell_type": "code",
   "execution_count": null,
   "metadata": {},
   "outputs": [],
   "source": [
    "fistuks_house.store('Shoe')"
   ]
  },
  {
   "cell_type": "code",
   "execution_count": null,
   "metadata": {},
   "outputs": [],
   "source": [
    "fistuks_house.store('important Shoe')"
   ]
  },
  {
   "cell_type": "markdown",
   "metadata": {},
   "source": [
    "## Modules"
   ]
  },
  {
   "cell_type": "code",
   "execution_count": 5,
   "metadata": {},
   "outputs": [
    {
     "name": "stdout",
     "output_type": "stream",
     "text": [
      "/home/ron/dev/shopymate/modules/sep/sep/translation/\r\n",
      "├── bundle_attributes_extractor.py\r\n",
      "├── bundle_notation.py\r\n",
      "├── bundle_notation_translator.py\r\n",
      "├── dialect.py\r\n",
      "├── fuzziness_provider.py\r\n",
      "├── generic\r\n",
      "│   ├── generic_instance_translator.py\r\n",
      "│   ├── generic_listing_bundle_translator.py\r\n",
      "│   ├── generic_query_bundle_translator.py\r\n",
      "│   ├── generic_query_translator.py\r\n",
      "│   ├── __init__.py\r\n",
      "│   ├── language.py\r\n",
      "│   └── naming\r\n",
      "│       ├── attribute_naming_transformer.py\r\n",
      "│       ├── concept_naming_transformer.py\r\n",
      "│       ├── __init__.py\r\n",
      "│       ├── named_elements.py\r\n",
      "│       ├── named_elements_repository.py\r\n",
      "│       ├── naming_aware_translators.py\r\n",
      "│       └── operator_lifting_query_transformer.py\r\n",
      "├── __init__.py\r\n",
      "├── instance_translator.py\r\n",
      "├── query_bundle_importance_repository.py\r\n",
      "├── query_translator.py\r\n",
      "└── unit_canonicalization.py\r\n",
      "\r\n",
      "2 directories, 23 files\r\n"
     ]
    }
   ],
   "source": [
    "! tree /home/ron/dev/shopymate/modules/sep/sep/translation/"
   ]
  },
  {
   "cell_type": "markdown",
   "metadata": {},
   "source": [
    "## ⚙ Exercise 2!\n",
    "Please implement a Twiggle-based Search engine"
   ]
  },
  {
   "cell_type": "code",
   "execution_count": null,
   "metadata": {},
   "outputs": [],
   "source": [
    "! pip install --upgrade pip\n",
    "! pip install elasticsearch\n",
    "# ! pip uninstall -y elasticsearch"
   ]
  },
  {
   "cell_type": "code",
   "execution_count": null,
   "metadata": {},
   "outputs": [],
   "source": [
    "# An example Sep query\n",
    "\n",
    "import requests\n",
    "from pprint import pprint\n",
    "\n",
    "SEP_URL = 'http://spring-dev.int.twiggle-labs.com:9900/queries'\n",
    "\n",
    "sep_response = requests.get(SEP_URL, {'q':'dress'}).json()\n",
    "\n",
    "pprint(sep_response)"
   ]
  },
  {
   "cell_type": "code",
   "execution_count": null,
   "metadata": {},
   "outputs": [],
   "source": [
    "# An example Elasticsearch search\n",
    "\n",
    "from elasticsearch import Elasticsearch\n",
    "\n",
    "ES_HOST = '172.32.31.84'\n",
    "ES_PORT = 9200\n",
    "ES_INDEX = 'springwithbrand_1395_1803210757_7757_us-east-1-es-240'\n",
    "ES_DOC_TYPE = 'listing'\n",
    "\n",
    "query = {'query':{'term':{'features.$concept_sm': 'Dress'}}}\n",
    "\n",
    "es = Elasticsearch('%s:%d' % (ES_HOST, ES_PORT))\n",
    "\n",
    "search_response = es.search(index=ES_INDEX, doc_type=ES_DOC_TYPE, body=query)\n",
    "\n",
    "pprint(search_response['hits']['hits'][0]['_source'])"
   ]
  },
  {
   "cell_type": "code",
   "execution_count": null,
   "metadata": {
    "collapsed": true
   },
   "outputs": [],
   "source": []
  }
 ],
 "metadata": {
  "kernelspec": {
   "display_name": "Python 3",
   "language": "python",
   "name": "python3"
  },
  "language_info": {
   "codemirror_mode": {
    "name": "ipython",
    "version": 3
   },
   "file_extension": ".py",
   "mimetype": "text/x-python",
   "name": "python",
   "nbconvert_exporter": "python",
   "pygments_lexer": "ipython3",
   "version": "3.6.3"
  }
 },
 "nbformat": 4,
 "nbformat_minor": 1
}
