{
 "cells": [
  {
   "cell_type": "markdown",
   "metadata": {
    "collapsed": true
   },
   "source": [
    "# Twiggle Python Workshop 🐍\n",
    "A ~3 hour hackers guide to python.\n",
    "\n",
    "## Topics\n",
    "1. What's python?\n",
    "\n",
    "2. Installation\n",
    "\n",
    "3. The python REPL\n",
    "\n",
    "4. Code files \n",
    "\n",
    "5. Basic syntax\n",
    "\n",
    "6. Common Data structures\n",
    "\n",
    "7. Iter tools\n",
    "\n",
    "8. **Exercise 1!**\n",
    "\n",
    "9. Objects\n",
    "\n",
    "10. Modules & Packages\n",
    "\n",
    "11. **Exercise 2, Electric boogaloo!**\n"
   ]
  },
  {
   "cell_type": "markdown",
   "metadata": {},
   "source": [
    "## What's python?\n",
    "\n",
    "* \"Multi paradigm programming language\" 😄\n",
    "\n",
    "* First appeared 20 February 1991, 21 years ago\n",
    "\n",
    "* Implemented in C (and others)\n",
    "\n",
    "* \"Interpreted\" (and compiled)\n",
    "\n",
    "* Totally open source, maintained by [PSF](https://www.python.org/psf/led)\n",
    "  * headed by BDFL Guido van Rosum\n",
    "\n",
    "![title](img/guido.jpeg)\n",
    "\n"
   ]
  },
  {
   "cell_type": "markdown",
   "metadata": {},
   "source": [
    "  * For windows - https://www.python.org/ftp/python/3.6.4/python-3.6.4-amd64.exe\n",
    "  * For Ubuntu - `sudo add-apt-repository ppa:jonathonf/python-3.6; sudo apt-get update; sudo apt-get install python3.6`\n",
    "\n"
   ]
  },
  {
   "cell_type": "markdown",
   "metadata": {},
   "source": [
    "  * Read–Eval–Print Loop\n",
    "  * run `python` in shell\n",
    "    * _what python version are you running?_\n",
    "  * run `ipython` in shell\n",
    "    * type `from itertools import` _[tab]+[tab]_\n",
    "  * `print('hello python!')`\n"
   ]
  },
  {
   "cell_type": "markdown",
   "metadata": {},
   "source": [
    "\n",
    "\n",
    "\n",
    "  * flow control\n",
    "  2. functions\n",
    " \n",
    "  1. Strings & Numbers\n",
    "  2. Lists\n",
    "  3. Dictionaries\n",
    "  4. Iteration"
   ]
  },
  {
   "cell_type": "markdown",
   "metadata": {},
   "source": []
  },
  {
   "cell_type": "markdown",
   "metadata": {},
   "source": []
  },
  {
   "cell_type": "markdown",
   "metadata": {},
   "source": []
  },
  {
   "cell_type": "code",
   "execution_count": 1,
   "metadata": {},
   "outputs": [
    {
     "name": "stdout",
     "output_type": "stream",
     "text": [
      "hello python!\n"
     ]
    }
   ],
   "source": [
    "print('hello python!')"
   ]
  }
 ],
 "metadata": {
  "kernelspec": {
   "display_name": "Python 3",
   "language": "python",
   "name": "python3"
  },
  "language_info": {
   "codemirror_mode": {
    "name": "ipython",
    "version": 3
   },
   "file_extension": ".py",
   "mimetype": "text/x-python",
   "name": "python",
   "nbconvert_exporter": "python",
   "pygments_lexer": "ipython3",
   "version": "3.6.3"
  }
 },
 "nbformat": 4,
 "nbformat_minor": 1
}
