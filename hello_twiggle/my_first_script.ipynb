{
 "cells": [
  {
   "cell_type": "markdown",
   "metadata": {
    "collapsed": true
   },
   "source": [
    "# Twiggle Python Workshop 🐍\n",
    "\n",
    "\n",
    "## Topics\n",
    "1. What's python?\n",
    "* Programming language\n",
    "* Implemented in C (and others)\n",
    "* \"Interpreted\" (and compiled)\n",
    "\n",
    "1. Installation - \n",
    "* For windows - https://www.python.org/ftp/python/3.6.4/python-3.6.4-amd64.exe\n",
    "* For Ubuntu - \n",
    "\n",
    "2. The python REPL\n",
    "  * Read–Eval–Print Loop\n",
    "  * run `python` in shell\n",
    "    * _what python version are you running?_\n",
    "  * run `ipython` in shell\n",
    "    * type `from itertools import` _[tab]+[tab]_\n",
    "  * `print('hello python!')`\n",
    "\n",
    "\n",
    "3. Code files \n",
    "\n",
    "3. Basic syntax\n",
    "  * flow control\n",
    "  2. functions\n",
    " \n",
    "4. Basic Data structures\n",
    "  1. Strings & Numbers\n",
    "  2. Lists\n",
    "  3. Dictionaries\n",
    "  4. Iteration\n",
    "\n",
    "5. Objects\n",
    "\n",
    "6. Modules & Packages\n",
    "\n"
   ]
  },
  {
   "cell_type": "code",
   "execution_count": 1,
   "metadata": {},
   "outputs": [
    {
     "name": "stdout",
     "output_type": "stream",
     "text": [
      "hello python!\n"
     ]
    }
   ],
   "source": [
    "print('hello python!')"
   ]
  }
 ],
 "metadata": {
  "kernelspec": {
   "display_name": "Python 3",
   "language": "python",
   "name": "python3"
  },
  "language_info": {
   "codemirror_mode": {
    "name": "ipython",
    "version": 3
   },
   "file_extension": ".py",
   "mimetype": "text/x-python",
   "name": "python",
   "nbconvert_exporter": "python",
   "pygments_lexer": "ipython3",
   "version": "3.6.3"
  }
 },
 "nbformat": 4,
 "nbformat_minor": 1
}
