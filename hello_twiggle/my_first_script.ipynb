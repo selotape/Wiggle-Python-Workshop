{
 "cells": [
  {
   "cell_type": "markdown",
   "metadata": {
    "slideshow": {
     "slide_type": "slide"
    }
   },
   "source": [
    "# Twiggle Python Workshop 🐍\n",
    "\n",
    "A ~3 hour hackers guide to python."
   ]
  },
  {
   "cell_type": "markdown",
   "metadata": {
    "collapsed": true,
    "slideshow": {
     "slide_type": "slide"
    }
   },
   "source": [
    "## Topics\n",
    "1. What's python?\n",
    "\n",
    "2. Installation\n",
    "\n",
    "3. The python shell\n",
    "\n",
    "4. Code files \n",
    "\n",
    "5. Syntax\n",
    "\n",
    "6. Common Data structures\n",
    "\n",
    "7. Iter tools\n",
    "\n",
    "8. **Exercise 1!**\n",
    "\n",
    "9. Objects\n",
    "\n",
    "10. Modules & Packages\n",
    "\n",
    "11. **Exercise 2, Electric boogaloo!**"
   ]
  },
  {
   "cell_type": "markdown",
   "metadata": {},
   "source": [
    "======================================================================================"
   ]
  },
  {
   "cell_type": "markdown",
   "metadata": {
    "slideshow": {
     "slide_type": "slide"
    }
   },
   "source": [
    "## What's python?\n",
    "\n",
    "* \"Multi paradigm programming language\" 😄\n",
    "\n",
    "\n",
    "* No math degree required!!\n",
    "\n",
    "\n",
    "* First appeared 20 February 1991, 21 years ago\n",
    "\n",
    "\n",
    "* Implemented in C (and others)\n",
    "\n",
    "\n",
    "* \"Interpreted\" (and compiled)\n",
    "\n",
    "\n",
    "* Totally open source, maintained by the [PSF](https://www.python.org/psf/led)\n",
    "  * headed by BDFL (Benevolent Dictator For Life) Guido van Rosum\n",
    "\n",
    "![title](img/guido.jpeg)\n",
    "\n"
   ]
  },
  {
   "cell_type": "markdown",
   "metadata": {},
   "source": [
    "## Installation\n",
    "\n",
    "* Windows - https://www.python.org/ftp/python/3.6.4/python-3.6.4-amd64.exe\n",
    "\n",
    "\n",
    "* Ubuntu - \n",
    "  * `sudo add-apt-repository ppa:jonathonf/python-3.6; sudo apt-get update; sudo apt-get install python3.6`\n"
   ]
  },
  {
   "cell_type": "markdown",
   "metadata": {},
   "source": [
    "==========================================================================================="
   ]
  },
  {
   "cell_type": "markdown",
   "metadata": {},
   "source": [
    "## The Python Shell\n",
    "\n",
    "* A Read–Eval–Print Loop (REPL)\n",
    "\n",
    "\n",
    "* Fastest playground\n",
    "\n",
    "\n",
    "* Built into Pycharm - ![title](img/python_console_in_pycharm.png)"
   ]
  },
  {
   "cell_type": "markdown",
   "metadata": {},
   "source": [
    "### ⚙ Mini exercise\n",
    "\n",
    "1. run `python` in terminal\n",
    "\n",
    "2. _what python version are you running?_\n",
    "\n",
    "3. type `print('hello python!')`\n"
   ]
  },
  {
   "cell_type": "markdown",
   "metadata": {},
   "source": [
    "## Code files"
   ]
  },
  {
   "cell_type": "markdown",
   "metadata": {},
   "source": [
    "Code lives in `file_name.py` files. That is all.\n"
   ]
  },
  {
   "cell_type": "code",
   "execution_count": 243,
   "metadata": {
    "collapsed": true
   },
   "outputs": [],
   "source": [
    "! echo \"print('hello python!')\" > my_first_python_script.py"
   ]
  },
  {
   "cell_type": "code",
   "execution_count": 244,
   "metadata": {},
   "outputs": [
    {
     "name": "stdout",
     "output_type": "stream",
     "text": [
      "hello python!\r\n"
     ]
    }
   ],
   "source": [
    "! python test_python_script.py"
   ]
  },
  {
   "cell_type": "code",
   "execution_count": 245,
   "metadata": {
    "collapsed": true
   },
   "outputs": [],
   "source": [
    "! rm my_first_python_script.py"
   ]
  },
  {
   "cell_type": "markdown",
   "metadata": {},
   "source": [
    "Packages/Modules live in directories with `__init__.py` files.\n",
    "* We'll revisit!"
   ]
  },
  {
   "cell_type": "markdown",
   "metadata": {},
   "source": [
    "### ⚙ Mini exercise\n",
    "\n",
    "1. Create a `hello_python.py` script\n",
    "\n",
    "2. Run it from terminal\n",
    "\n",
    "3. Run it from Pycharm\n",
    "\n",
    "4. Debug it!\n"
   ]
  },
  {
   "cell_type": "markdown",
   "metadata": {},
   "source": [
    "==========================================================================================="
   ]
  },
  {
   "cell_type": "markdown",
   "metadata": {},
   "source": [
    "# The Syntax"
   ]
  },
  {
   "cell_type": "code",
   "execution_count": 246,
   "metadata": {},
   "outputs": [],
   "source": [
    "# This is how you write comments"
   ]
  },
  {
   "cell_type": "markdown",
   "metadata": {},
   "source": [
    "### Strings"
   ]
  },
  {
   "cell_type": "code",
   "execution_count": 247,
   "metadata": {},
   "outputs": [
    {
     "data": {
      "text/plain": [
       "\"I'm a string\""
      ]
     },
     "execution_count": 247,
     "metadata": {},
     "output_type": "execute_result"
    }
   ],
   "source": [
    "\"I'm a string\""
   ]
  },
  {
   "cell_type": "code",
   "execution_count": 248,
   "metadata": {},
   "outputs": [
    {
     "data": {
      "text/plain": [
       "'Im also a string'"
      ]
     },
     "execution_count": 248,
     "metadata": {},
     "output_type": "execute_result"
    }
   ],
   "source": [
    "'Im also a string'"
   ]
  },
  {
   "cell_type": "code",
   "execution_count": 249,
   "metadata": {},
   "outputs": [
    {
     "data": {
      "text/plain": [
       "'Im a concatenated string'"
      ]
     },
     "execution_count": 249,
     "metadata": {},
     "output_type": "execute_result"
    }
   ],
   "source": [
    "'Im a concatenated ' + 'string'"
   ]
  },
  {
   "cell_type": "code",
   "execution_count": 250,
   "metadata": {},
   "outputs": [
    {
     "data": {
      "text/plain": [
       "'Im a formatted string'"
      ]
     },
     "execution_count": 250,
     "metadata": {},
     "output_type": "execute_result"
    }
   ],
   "source": [
    "'Im a %s %s' % ('formatted', 'string')"
   ]
  },
  {
   "cell_type": "markdown",
   "metadata": {},
   "source": [
    "###  Numbers"
   ]
  },
  {
   "cell_type": "code",
   "execution_count": 251,
   "metadata": {
    "collapsed": true
   },
   "outputs": [],
   "source": [
    "number_nine = 9"
   ]
  },
  {
   "cell_type": "code",
   "execution_count": 252,
   "metadata": {
    "collapsed": true
   },
   "outputs": [],
   "source": [
    "eight_and_a_half = 8.5"
   ]
  },
  {
   "cell_type": "code",
   "execution_count": 253,
   "metadata": {
    "collapsed": true
   },
   "outputs": [],
   "source": [
    "one_half = number_nine - eight_and_a_half"
   ]
  },
  {
   "cell_type": "code",
   "execution_count": 254,
   "metadata": {
    "collapsed": true
   },
   "outputs": [],
   "source": [
    "from __future__ import division"
   ]
  },
  {
   "cell_type": "code",
   "execution_count": 255,
   "metadata": {
    "collapsed": true
   },
   "outputs": [],
   "source": [
    "one_third = 1/3"
   ]
  },
  {
   "cell_type": "code",
   "execution_count": 256,
   "metadata": {},
   "outputs": [
    {
     "name": "stdout",
     "output_type": "stream",
     "text": [
      "9 8.5 0.5 0.3333333333333333\n"
     ]
    }
   ],
   "source": [
    "print(number_nine, eight_and_a_half, one_half, one_third)"
   ]
  },
  {
   "cell_type": "markdown",
   "metadata": {},
   "source": [
    "### Collections"
   ]
  },
  {
   "cell_type": "code",
   "execution_count": 257,
   "metadata": {
    "collapsed": true
   },
   "outputs": [],
   "source": [
    "im_a_list = [1, 2, 3]\n",
    "im_a_tuple = (1, 2, 3)\n",
    "im_a_dict = {'one': 1, 'two':2, 'three':3}"
   ]
  },
  {
   "cell_type": "markdown",
   "metadata": {},
   "source": [
    "### Lists"
   ]
  },
  {
   "cell_type": "code",
   "execution_count": 258,
   "metadata": {
    "collapsed": true
   },
   "outputs": [],
   "source": [
    "words_list = ['Lists', 'are', 'the', 'single', 'most', 'useful', 'datastructure!']"
   ]
  },
  {
   "cell_type": "code",
   "execution_count": 259,
   "metadata": {},
   "outputs": [
    {
     "name": "stdout",
     "output_type": "stream",
     "text": [
      "Lists are the single most useful datastructure! "
     ]
    }
   ],
   "source": [
    "for word in words_list:\n",
    "    print(word, end=' ')"
   ]
  },
  {
   "cell_type": "code",
   "execution_count": 260,
   "metadata": {
    "collapsed": true
   },
   "outputs": [],
   "source": [
    "# Lists can be accessed via SLICES\n",
    "words_list[0] = 'Arrays'"
   ]
  },
  {
   "cell_type": "code",
   "execution_count": 261,
   "metadata": {},
   "outputs": [
    {
     "name": "stdout",
     "output_type": "stream",
     "text": [
      "Arrays are the single most useful datastructure! "
     ]
    }
   ],
   "source": [
    "for word in words_list[0:2]:\n",
    "    print(word, end=' ')\n",
    "\n",
    "for word in words_list[2:]:\n",
    "    print(word, end=' ')"
   ]
  },
  {
   "cell_type": "code",
   "execution_count": 262,
   "metadata": {},
   "outputs": [
    {
     "name": "stdout",
     "output_type": "stream",
     "text": [
      "Last word in words_list is: 'datastructure!'\n"
     ]
    }
   ],
   "source": [
    "print(\"Last word in words_list is: '%s'\" % words_list[-1])"
   ]
  },
  {
   "cell_type": "markdown",
   "metadata": {},
   "source": [
    "### Tuples"
   ]
  },
  {
   "cell_type": "code",
   "execution_count": 263,
   "metadata": {
    "collapsed": true
   },
   "outputs": [],
   "source": [
    "words_tuple = ('Tuples', 'are', 'very', 'similiar', 'but', 'immutable.')"
   ]
  },
  {
   "cell_type": "code",
   "execution_count": 264,
   "metadata": {},
   "outputs": [
    {
     "ename": "TypeError",
     "evalue": "'tuple' object does not support item assignment",
     "output_type": "error",
     "traceback": [
      "\u001b[0;31m---------------------------------------------------------------------------\u001b[0m",
      "\u001b[0;31mTypeError\u001b[0m                                 Traceback (most recent call last)",
      "\u001b[0;32m<ipython-input-264-fced715d1023>\u001b[0m in \u001b[0;36m<module>\u001b[0;34m()\u001b[0m\n\u001b[0;32m----> 1\u001b[0;31m \u001b[0mwords_tuple\u001b[0m\u001b[0;34m[\u001b[0m\u001b[0;36m0\u001b[0m\u001b[0;34m]\u001b[0m \u001b[0;34m=\u001b[0m \u001b[0;34m'Arrays'\u001b[0m\u001b[0;34m\u001b[0m\u001b[0m\n\u001b[0m",
      "\u001b[0;31mTypeError\u001b[0m: 'tuple' object does not support item assignment"
     ]
    }
   ],
   "source": [
    "words_tuple[0] = 'Arrays'"
   ]
  },
  {
   "cell_type": "markdown",
   "metadata": {},
   "source": [
    "### Dictionaries"
   ]
  },
  {
   "cell_type": "code",
   "execution_count": 265,
   "metadata": {
    "collapsed": true
   },
   "outputs": [],
   "source": [
    "# Dictionaries map keys to values:\n",
    "\n",
    "python_wizardry_level = {\n",
    "    'Oren': 8,\n",
    "    'Avish': 9,\n",
    "    'Uri': 10\n",
    "}"
   ]
  },
  {
   "cell_type": "code",
   "execution_count": 266,
   "metadata": {},
   "outputs": [
    {
     "name": "stdout",
     "output_type": "stream",
     "text": [
      "Wizard: Oren\n",
      "Wizard: Avish\n",
      "Wizard: Uri\n"
     ]
    }
   ],
   "source": [
    "# iterate over keys directly\n",
    "\n",
    "for wizard in python_wizardry_level:\n",
    "    print('Wizard: %s' % wizard)"
   ]
  },
  {
   "cell_type": "code",
   "execution_count": 267,
   "metadata": {},
   "outputs": [
    {
     "name": "stdout",
     "output_type": "stream",
     "text": [
      "Wizard: Oren. Level: 8\n",
      "Wizard: Avish. Level: 9\n",
      "Wizard: Uri. Level: 10\n"
     ]
    }
   ],
   "source": [
    "# iterate over keys+values using dict.items()\n",
    "\n",
    "for wizard, level in python_wizardry_level.items():\n",
    "    print('Wizard: %s. Level: %d' % (wizard, level))"
   ]
  },
  {
   "cell_type": "code",
   "execution_count": 268,
   "metadata": {},
   "outputs": [
    {
     "name": "stdout",
     "output_type": "stream",
     "text": [
      "Uris wizardry level is 10\n"
     ]
    }
   ],
   "source": [
    "uris_wizardry_level = python_wizardry_level['Uri']\n",
    "\n",
    "print('Uris wizardry level is %d' % uris_wizardry_level)"
   ]
  },
  {
   "cell_type": "markdown",
   "metadata": {},
   "source": [
    "## Control Flow"
   ]
  },
  {
   "cell_type": "code",
   "execution_count": 269,
   "metadata": {},
   "outputs": [
    {
     "name": "stdout",
     "output_type": "stream",
     "text": [
      "Nothing to see here. Move along.\n"
     ]
    }
   ],
   "source": [
    "if 1 > 2:\n",
    "    print(\"All Hell's broke loose!!\")\n",
    "else:\n",
    "    print(\"Nothing to see here. Move along.\")"
   ]
  },
  {
   "cell_type": "code",
   "execution_count": 270,
   "metadata": {},
   "outputs": [
    {
     "name": "stdout",
     "output_type": "stream",
     "text": [
      "Fear not, we are safe!\n"
     ]
    }
   ],
   "source": [
    "powerpuff_girls = ['Blossom', 'Bubbles', 'Buttercup']\n",
    "\n",
    "if 'Mojojojo' in powerpuff_girls:\n",
    "    print(\"Intruder!!\")\n",
    "if 'Blossom' not in powerpuff_girls:\n",
    "    print(\"MIA!!\")\n",
    "elif len(powerpuff_girls) == 3 and 'Buttercup' in powerpuff_girls:\n",
    "    print(\"Fear not, we are safe!\")"
   ]
  },
  {
   "cell_type": "code",
   "execution_count": 271,
   "metadata": {},
   "outputs": [
    {
     "name": "stdout",
     "output_type": "stream",
     "text": [
      "counted up to 4339252 in 1 second\n"
     ]
    }
   ],
   "source": [
    "from time import time\n",
    "\n",
    "start_time = current_time = time()\n",
    "count=0\n",
    "\n",
    "while current_time < start_time + 1:\n",
    "    count += 1\n",
    "    current_time = time()\n",
    "    \n",
    "print(\"counted up to %d in %d second\" % (count, current_time-start_time))"
   ]
  },
  {
   "cell_type": "markdown",
   "metadata": {},
   "source": [
    "### Functions"
   ]
  },
  {
   "cell_type": "code",
   "execution_count": 272,
   "metadata": {},
   "outputs": [
    {
     "name": "stdout",
     "output_type": "stream",
     "text": [
      "Hi Thor! Are you a new employee, or just interviewing?\n",
      "Hi Loki! Are you a new KE, or just interviewing?\n"
     ]
    }
   ],
   "source": [
    "# defining functions with default arguments\n",
    "\n",
    "def print_kitchen_greeting(name, position='employee'):\n",
    "    print('Hi %s! Are you a new %s, or just interviewing?' % (name, position))\n",
    "\n",
    "print_kitchen_greeting('Thor')\n",
    "print_kitchen_greeting('Loki', position='KE')"
   ]
  },
  {
   "cell_type": "code",
   "execution_count": 273,
   "metadata": {},
   "outputs": [
    {
     "name": "stdout",
     "output_type": "stream",
     "text": [
      "<function print_kitchen_greeting at 0x7f90445ece18>\n"
     ]
    }
   ],
   "source": [
    "# Functions are first class citizens in python - \n",
    "\n",
    "print(print_kitchen_greeting)"
   ]
  },
  {
   "cell_type": "code",
   "execution_count": 274,
   "metadata": {},
   "outputs": [],
   "source": [
    "def lower_print(string_to_print: str):\n",
    "    print(string_to_print.lower())\n",
    "\n",
    "def triple_print(string_to_print):\n",
    "    print(string_to_print * 3)\n",
    "\n",
    "        \n",
    "def customizable_greeting(name, print_func=print):\n",
    "    print_func(' Hi %s!' % name)"
   ]
  },
  {
   "cell_type": "code",
   "execution_count": 275,
   "metadata": {},
   "outputs": [
    {
     "name": "stdout",
     "output_type": "stream",
     "text": [
      " Hi Spiderman!\n",
      " Hi Batman! Hi Batman! Hi Batman!\n",
      " hi superman!\n"
     ]
    }
   ],
   "source": [
    "customizable_greeting('Spiderman')\n",
    "customizable_greeting('Batman', print_func=triple_print)\n",
    "customizable_greeting('SUPERMAN', print_func=lower_print)"
   ]
  },
  {
   "cell_type": "code",
   "execution_count": 276,
   "metadata": {
    "collapsed": true
   },
   "outputs": [],
   "source": [
    "from random import random\n",
    "\n",
    "def two_random_numbers():\n",
    "    \"\"\"\n",
    "    returns multiple values (in a tuple)\n",
    "    \"\"\"\n",
    "    return random(), random()"
   ]
  },
  {
   "cell_type": "code",
   "execution_count": 277,
   "metadata": {},
   "outputs": [
    {
     "name": "stdout",
     "output_type": "stream",
     "text": [
      "0.9881571061785925 0.5482112783546371\n"
     ]
    }
   ],
   "source": [
    "# automatic tuple \"unpacking\"\n",
    "x, y = two_random_numbers() \n",
    "print(x, y)"
   ]
  },
  {
   "cell_type": "markdown",
   "metadata": {},
   "source": [
    "## Iteration"
   ]
  },
  {
   "cell_type": "markdown",
   "metadata": {},
   "source": [
    "### range"
   ]
  },
  {
   "cell_type": "code",
   "execution_count": 278,
   "metadata": {},
   "outputs": [
    {
     "name": "stdout",
     "output_type": "stream",
     "text": [
      "step 0\n",
      "step 1\n",
      "step 2\n",
      "step 3\n",
      "step 4\n",
      "step 5\n",
      "step 6\n",
      "step 7\n",
      "step 8\n",
      "step 9\n"
     ]
    }
   ],
   "source": [
    "for i in range(10):\n",
    "    print('step ' + str(i))"
   ]
  },
  {
   "cell_type": "code",
   "execution_count": 279,
   "metadata": {},
   "outputs": [
    {
     "name": "stdout",
     "output_type": "stream",
     "text": [
      "step 0\n",
      "step 2\n",
      "step 4\n",
      "step 6\n",
      "step 8\n"
     ]
    }
   ],
   "source": [
    "for i in range(0, 10, 2):\n",
    "    print('step ' + str(i))"
   ]
  },
  {
   "cell_type": "markdown",
   "metadata": {},
   "source": [
    "### enumerate"
   ]
  },
  {
   "cell_type": "code",
   "execution_count": 280,
   "metadata": {},
   "outputs": [
    {
     "name": "stdout",
     "output_type": "stream",
     "text": [
      "0: 'Arrays'\n",
      "1: 'are'\n",
      "2: 'the'\n",
      "3: 'single'\n",
      "4: 'most'\n",
      "5: 'useful'\n",
      "6: 'datastructure!'\n"
     ]
    }
   ],
   "source": [
    "for word_position, word in enumerate(words_list):\n",
    "    print(\"%d: '%s'\" % (word_position, word))"
   ]
  },
  {
   "cell_type": "markdown",
   "metadata": {},
   "source": [
    "### comprehensions"
   ]
  },
  {
   "cell_type": "code",
   "execution_count": 281,
   "metadata": {},
   "outputs": [
    {
     "data": {
      "text/plain": [
       "['arrays', 'are', 'the', 'single', 'most', 'useful', 'datastructure!']"
      ]
     },
     "execution_count": 281,
     "metadata": {},
     "output_type": "execute_result"
    }
   ],
   "source": [
    "# map\n",
    "[word.lower() for word in words_list]"
   ]
  },
  {
   "cell_type": "code",
   "execution_count": 282,
   "metadata": {},
   "outputs": [
    {
     "data": {
      "text/plain": [
       "['Arrays', 'are', 'the', 'single', 'most', 'useful']"
      ]
     },
     "execution_count": 282,
     "metadata": {},
     "output_type": "execute_result"
    }
   ],
   "source": [
    "# filter\n",
    "[word for word in words_list if word.isalpha()]"
   ]
  },
  {
   "cell_type": "code",
   "execution_count": 283,
   "metadata": {},
   "outputs": [
    {
     "data": {
      "text/plain": [
       "['Arr', 'are', 'the', 'sin', 'mos', 'use']"
      ]
     },
     "execution_count": 283,
     "metadata": {},
     "output_type": "execute_result"
    }
   ],
   "source": [
    "# combine!\n",
    "[word[:3] for word in words_list if word.isalpha()]"
   ]
  },
  {
   "cell_type": "markdown",
   "metadata": {},
   "source": [
    "## ⚙ Finally, Exercise 1!"
   ]
  },
  {
   "cell_type": "markdown",
   "metadata": {},
   "source": [
    "Fill in the following grep.py script:"
   ]
  },
  {
   "cell_type": "code",
   "execution_count": 284,
   "metadata": {},
   "outputs": [
    {
     "name": "stdout",
     "output_type": "stream",
     "text": [
      "['/home/ron/anaconda3/lib/python3.6/site-packages/ipykernel_launcher.py', '-f', '/run/user/1000/jupyter/kernel-71460c86-1f7a-4311-8fd3-3916772f4ade.json']\n"
     ]
    }
   ],
   "source": [
    "# This is a template grep.py file\n",
    "# It should run like so - `python grep.py /path/to/file pattern`\n",
    "\n",
    "import sys\n",
    "\n",
    "if __name__ == '__main__':\n",
    "    print(sys.argv)\n",
    "    \n",
    "    # TODO:\n",
    "    \n",
    "    # 1- read file (hint - you need to google how to do this)\n",
    "    # 2- iterate over lines (ditto)\n",
    "    # 3- if line contains the pattern, print it\n",
    "    \n",
    "    # 4- Advanced: pattern is now a regex!\n",
    "    "
   ]
  },
  {
   "cell_type": "markdown",
   "metadata": {},
   "source": [
    "## Objects"
   ]
  },
  {
   "cell_type": "code",
   "execution_count": 295,
   "metadata": {},
   "outputs": [],
   "source": [
    "class House:\n",
    "    def __init__(self, address, storage_size):\n",
    "        self._storage_size = storage_size  # type: int\n",
    "        self._storage = set()  # type: set\n",
    "        self._address = address  # type: int\n",
    "\n",
    "    def free_space(self):\n",
    "        return self._storage_size - len(self._storage)\n",
    "    \n",
    "    def store(self, junk):\n",
    "        if self.free_space() <= 0:\n",
    "            raise OverflowError(\"You got no more room for your junk!!\")\n",
    "        self._storage.add(junk)\n",
    "        print('Stored %s' % junk)\n",
    "    \n",
    "    def throw_away(self, junk):\n",
    "        if junk in self._storage:\n",
    "            self._storage.remove(junk)\n",
    "            print('Threw away the %s' % junk)\n",
    "            \n",
    "    def __str__(self):\n",
    "        return 'A House at \\'%s\\'' % self._address"
   ]
  },
  {
   "cell_type": "code",
   "execution_count": 296,
   "metadata": {},
   "outputs": [
    {
     "name": "stdout",
     "output_type": "stream",
     "text": [
      "A House at 'Hailanot 25, Maas'\n"
     ]
    }
   ],
   "source": [
    "rons_house = House('Hailanot 25, Maas', 3)\n",
    "print(str(rons_house))"
   ]
  },
  {
   "cell_type": "code",
   "execution_count": 297,
   "metadata": {},
   "outputs": [
    {
     "name": "stdout",
     "output_type": "stream",
     "text": [
      "3\n",
      "Stored Bike\n",
      "Stored Fridge\n",
      "Stored TV\n"
     ]
    }
   ],
   "source": [
    "print(rons_house.free_space())\n",
    "rons_house.store('Bike')\n",
    "rons_house.store('Fridge')\n",
    "rons_house.store('TV')"
   ]
  },
  {
   "cell_type": "code",
   "execution_count": 298,
   "metadata": {},
   "outputs": [
    {
     "name": "stdout",
     "output_type": "stream",
     "text": [
      "Threw away the Fridge\n"
     ]
    }
   ],
   "source": [
    "rons_house.throw_away('Fridge')"
   ]
  },
  {
   "cell_type": "code",
   "execution_count": null,
   "metadata": {
    "collapsed": true
   },
   "outputs": [],
   "source": []
  }
 ],
 "metadata": {
  "kernelspec": {
   "display_name": "Python 3",
   "language": "python",
   "name": "python3"
  },
  "language_info": {
   "codemirror_mode": {
    "name": "ipython",
    "version": 3
   },
   "file_extension": ".py",
   "mimetype": "text/x-python",
   "name": "python",
   "nbconvert_exporter": "python",
   "pygments_lexer": "ipython3",
   "version": "3.6.3"
  }
 },
 "nbformat": 4,
 "nbformat_minor": 1
}
